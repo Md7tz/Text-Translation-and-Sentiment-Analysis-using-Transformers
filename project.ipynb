{
 "cells": [
  {
   "cell_type": "markdown",
   "id": "d876d70b-844e-4fc5-8142-b9142cedd1c9",
   "metadata": {},
   "source": [
    "# Text Translation and Sentiment Analysis using Transformers"
   ]
  },
  {
   "cell_type": "markdown",
   "id": "afd22287-739c-4728-a944-5dc4a898638c",
   "metadata": {},
   "source": [
    "## Project Overview:\n",
    "\n",
    "The objective of this project is to analyze the sentiment of movie reviews in three different languages - English, French, and Spanish. We have been given 30 movies, 10 in each language, along with their reviews and synopses in separate CSV files named `movie_reviews_eng.csv`, `movie_reviews_fr.csv`, and `movie_reviews_sp.csv`.\n",
    "\n",
    "- The first step of this project is to convert the French and Spanish reviews and synopses into English. This will allow us to analyze the sentiment of all reviews in the same language. We will be using pre-trained transformers from HuggingFace to achieve this task.\n",
    "\n",
    "- Once the translations are complete, we will create a single dataframe that contains all the movies along with their reviews, synopses, and year of release in all three languages. This dataframe will be used to perform sentiment analysis on the reviews of each movie.\n",
    "\n",
    "- Finally, we will use pretrained transformers from HuggingFace to analyze the sentiment of each review. The sentiment analysis results will be added to the dataframe. The final dataframe will have 30 rows\n",
    "\n",
    "\n",
    "The output of the project will be a CSV file with a header row that includes column names such as **Title**, **Year**, **Synopsis**, **Review**, **Review Sentiment**, and **Original Language**. The **Original Language** column will indicate the language of the review and synopsis (*en/fr/sp*) before translation. The dataframe will consist of 30 rows, with each row corresponding to a movie."
   ]
  },
  {
   "cell_type": "code",
   "execution_count": 1,
   "id": "3d076e42-08b6-4f1f-8ab4-effa76022718",
   "metadata": {},
   "outputs": [],
   "source": [
    "import pandas as pd\n",
    "from transformers import MarianMTModel, MarianTokenizer\n",
    "from transformers import pipeline"
   ]
  },
  {
   "cell_type": "markdown",
   "id": "81db3e8e-809e-4b68-90d4-86fdb71b1e1b",
   "metadata": {},
   "source": [
    "### Get data from `.csv` files and then preprocess data"
   ]
  },
  {
   "cell_type": "code",
   "execution_count": 14,
   "id": "81fce4a4-3c3f-43da-b37d-fdd2969a9a33",
   "metadata": {},
   "outputs": [],
   "source": [
    "def preprocesses_data() -> pd.DataFrame:\n",
    "    \"\"\"\n",
    "    Reads movie data from .csv files, map column names, add the \"Original Language\" column,\n",
    "    and finally concatenate in one resultant dataframe called \"df\".\n",
    "    \"\"\"\n",
    "    df_eng = pd.read_csv(\"data/movie_reviews_eng.csv\")\n",
    "    df_fr = pd.read_csv(\"data/movie_reviews_fr.csv\")\n",
    "    df_es = pd.read_csv(\"data/movie_reviews_sp.csv\")\n",
    "\n",
    "    # Map Column names to the standardized names\n",
    "    column_mapping = {\n",
    "        'Movie / TV Series': 'Title',\n",
    "        'Titre': 'Title',\n",
    "        'Título': 'Title',\n",
    "        'Année': 'Year',\n",
    "        'Año': 'Year',\n",
    "        'Sinopsis': 'Synopsis',\n",
    "        'Critiques': 'Review',\n",
    "        'Críticas': 'Review'\n",
    "    }\n",
    "\n",
    "    df_eng = df_eng.rename(columns=column_mapping)\n",
    "    df_fr = df_fr.rename(columns=column_mapping)\n",
    "    df_es = df_es.rename(columns=column_mapping)\n",
    "\n",
    "    # Add the \"Original Language\" column\n",
    "    df_eng['Original Language'] = 'en'\n",
    "    df_fr['Original Language'] = 'fr'\n",
    "    df_es['Original Language'] = 'es'\n",
    "\n",
    "    # Concatenate the dataframes into one\n",
    "    df = pd.concat([df_eng, df_fr, df_es], ignore_index=True)\n",
    "    \n",
    "    return df"
   ]
  },
  {
   "cell_type": "code",
   "execution_count": 15,
   "id": "c1f41e3a-1d52-4c87-9bb3-623ba25b7d2d",
   "metadata": {},
   "outputs": [
    {
     "data": {
      "text/html": [
       "<div>\n",
       "<style scoped>\n",
       "    .dataframe tbody tr th:only-of-type {\n",
       "        vertical-align: middle;\n",
       "    }\n",
       "\n",
       "    .dataframe tbody tr th {\n",
       "        vertical-align: top;\n",
       "    }\n",
       "\n",
       "    .dataframe thead th {\n",
       "        text-align: right;\n",
       "    }\n",
       "</style>\n",
       "<table border=\"1\" class=\"dataframe\">\n",
       "  <thead>\n",
       "    <tr style=\"text-align: right;\">\n",
       "      <th></th>\n",
       "      <th>Title</th>\n",
       "      <th>Year</th>\n",
       "      <th>Synopsis</th>\n",
       "      <th>Review</th>\n",
       "      <th>Original Language</th>\n",
       "    </tr>\n",
       "  </thead>\n",
       "  <tbody>\n",
       "    <tr>\n",
       "      <th>12</th>\n",
       "      <td>Amélie</td>\n",
       "      <td>2001</td>\n",
       "      <td>Cette comédie romantique raconte l'histoire d'...</td>\n",
       "      <td>\"Amélie est un film absolument charmant qui vo...</td>\n",
       "      <td>fr</td>\n",
       "    </tr>\n",
       "    <tr>\n",
       "      <th>1</th>\n",
       "      <td>The Dark Knight</td>\n",
       "      <td>2008</td>\n",
       "      <td>Batman (Christian Bale) teams up with District...</td>\n",
       "      <td>\"The Dark Knight is a thrilling and intense su...</td>\n",
       "      <td>en</td>\n",
       "    </tr>\n",
       "    <tr>\n",
       "      <th>10</th>\n",
       "      <td>La La Land</td>\n",
       "      <td>2016</td>\n",
       "      <td>Cette comédie musicale raconte l'histoire d'un...</td>\n",
       "      <td>\"La La Land est un film absolument magnifique ...</td>\n",
       "      <td>fr</td>\n",
       "    </tr>\n",
       "    <tr>\n",
       "      <th>3</th>\n",
       "      <td>The Godfather</td>\n",
       "      <td>1972</td>\n",
       "      <td>Don Vito Corleone (Marlon Brando) is the head ...</td>\n",
       "      <td>\"The Godfather is a classic movie that stands ...</td>\n",
       "      <td>en</td>\n",
       "    </tr>\n",
       "    <tr>\n",
       "      <th>9</th>\n",
       "      <td>The Island</td>\n",
       "      <td>2005</td>\n",
       "      <td>In a future where people are cloned for organ ...</td>\n",
       "      <td>\"The Island is a bland and forgettable sci-fi ...</td>\n",
       "      <td>en</td>\n",
       "    </tr>\n",
       "    <tr>\n",
       "      <th>29</th>\n",
       "      <td>El Incidente</td>\n",
       "      <td>2014</td>\n",
       "      <td>En esta película de terror mexicana, un grupo ...</td>\n",
       "      <td>\"El Incidente es una película aburrida y sin s...</td>\n",
       "      <td>es</td>\n",
       "    </tr>\n",
       "    <tr>\n",
       "      <th>13</th>\n",
       "      <td>Les Choristes</td>\n",
       "      <td>2004</td>\n",
       "      <td>Ce film raconte l'histoire d'un professeur de ...</td>\n",
       "      <td>\"Les Choristes est un film magnifique qui vous...</td>\n",
       "      <td>fr</td>\n",
       "    </tr>\n",
       "    <tr>\n",
       "      <th>18</th>\n",
       "      <td>Les Visiteurs en Amérique</td>\n",
       "      <td>2000</td>\n",
       "      <td>Dans cette suite de la comédie française Les V...</td>\n",
       "      <td>\"Le film est une perte de temps totale. Les bl...</td>\n",
       "      <td>fr</td>\n",
       "    </tr>\n",
       "    <tr>\n",
       "      <th>21</th>\n",
       "      <td>La Casa de Papel</td>\n",
       "      <td>(2017-2021)</td>\n",
       "      <td>Esta serie de televisión española sigue a un g...</td>\n",
       "      <td>\"La Casa de Papel es una serie emocionante y a...</td>\n",
       "      <td>es</td>\n",
       "    </tr>\n",
       "    <tr>\n",
       "      <th>22</th>\n",
       "      <td>Y tu mamá también</td>\n",
       "      <td>2001</td>\n",
       "      <td>Dos amigos adolescentes (Gael García Bernal y ...</td>\n",
       "      <td>\"Y tu mamá también es una película que se qued...</td>\n",
       "      <td>es</td>\n",
       "    </tr>\n",
       "  </tbody>\n",
       "</table>\n",
       "</div>"
      ],
      "text/plain": [
       "                        Title         Year  \\\n",
       "12                     Amélie         2001   \n",
       "1            The Dark Knight          2008   \n",
       "10                 La La Land         2016   \n",
       "3              The Godfather          1972   \n",
       "9                  The Island         2005   \n",
       "29               El Incidente         2014   \n",
       "13              Les Choristes         2004   \n",
       "18  Les Visiteurs en Amérique         2000   \n",
       "21           La Casa de Papel  (2017-2021)   \n",
       "22          Y tu mamá también         2001   \n",
       "\n",
       "                                             Synopsis  \\\n",
       "12  Cette comédie romantique raconte l'histoire d'...   \n",
       "1   Batman (Christian Bale) teams up with District...   \n",
       "10  Cette comédie musicale raconte l'histoire d'un...   \n",
       "3   Don Vito Corleone (Marlon Brando) is the head ...   \n",
       "9   In a future where people are cloned for organ ...   \n",
       "29  En esta película de terror mexicana, un grupo ...   \n",
       "13  Ce film raconte l'histoire d'un professeur de ...   \n",
       "18  Dans cette suite de la comédie française Les V...   \n",
       "21  Esta serie de televisión española sigue a un g...   \n",
       "22  Dos amigos adolescentes (Gael García Bernal y ...   \n",
       "\n",
       "                                               Review Original Language  \n",
       "12  \"Amélie est un film absolument charmant qui vo...                fr  \n",
       "1   \"The Dark Knight is a thrilling and intense su...                en  \n",
       "10  \"La La Land est un film absolument magnifique ...                fr  \n",
       "3   \"The Godfather is a classic movie that stands ...                en  \n",
       "9   \"The Island is a bland and forgettable sci-fi ...                en  \n",
       "29  \"El Incidente es una película aburrida y sin s...                es  \n",
       "13  \"Les Choristes est un film magnifique qui vous...                fr  \n",
       "18  \"Le film est une perte de temps totale. Les bl...                fr  \n",
       "21  \"La Casa de Papel es una serie emocionante y a...                es  \n",
       "22  \"Y tu mamá también es una película que se qued...                es  "
      ]
     },
     "execution_count": 15,
     "metadata": {},
     "output_type": "execute_result"
    }
   ],
   "source": [
    "df = preprocesses_data()\n",
    "df.sample(10)"
   ]
  },
  {
   "cell_type": "markdown",
   "id": "b64c85ba-4c80-408d-a737-e5e3aa9fc591",
   "metadata": {},
   "source": [
    "### Text translation\n",
    "\n",
    "Translate the **Review** and **Synopsis** column values to English."
   ]
  },
  {
   "cell_type": "code",
   "execution_count": 16,
   "id": "5b15f988-fd6e-4c30-ad4b-01759e7de383",
   "metadata": {},
   "outputs": [
    {
     "data": {
      "application/vnd.jupyter.widget-view+json": {
       "model_id": "34e4161825bf4cd7af15cd310e2e56a4",
       "version_major": 2,
       "version_minor": 0
      },
      "text/plain": [
       "config.json:   0%|          | 0.00/1.42k [00:00<?, ?B/s]"
      ]
     },
     "metadata": {},
     "output_type": "display_data"
    },
    {
     "data": {
      "application/vnd.jupyter.widget-view+json": {
       "model_id": "9ee17a28908847f9944f82ab3878b7ae",
       "version_major": 2,
       "version_minor": 0
      },
      "text/plain": [
       "pytorch_model.bin:   0%|          | 0.00/301M [00:00<?, ?B/s]"
      ]
     },
     "metadata": {},
     "output_type": "display_data"
    },
    {
     "data": {
      "application/vnd.jupyter.widget-view+json": {
       "model_id": "ed74b77f4d57420c9b85369b2262e5f5",
       "version_major": 2,
       "version_minor": 0
      },
      "text/plain": [
       "generation_config.json:   0%|          | 0.00/293 [00:00<?, ?B/s]"
      ]
     },
     "metadata": {},
     "output_type": "display_data"
    },
    {
     "data": {
      "application/vnd.jupyter.widget-view+json": {
       "model_id": "6f00f48d1ee641c08c7a3d8532fa72e6",
       "version_major": 2,
       "version_minor": 0
      },
      "text/plain": [
       "config.json:   0%|          | 0.00/1.44k [00:00<?, ?B/s]"
      ]
     },
     "metadata": {},
     "output_type": "display_data"
    },
    {
     "data": {
      "application/vnd.jupyter.widget-view+json": {
       "model_id": "005375ecb0f64d1c931ebf9cceebf4fb",
       "version_major": 2,
       "version_minor": 0
      },
      "text/plain": [
       "pytorch_model.bin:   0%|          | 0.00/312M [00:00<?, ?B/s]"
      ]
     },
     "metadata": {},
     "output_type": "display_data"
    },
    {
     "data": {
      "application/vnd.jupyter.widget-view+json": {
       "model_id": "77adfccd9e9241f482047cd2621c60dc",
       "version_major": 2,
       "version_minor": 0
      },
      "text/plain": [
       "generation_config.json:   0%|          | 0.00/293 [00:00<?, ?B/s]"
      ]
     },
     "metadata": {},
     "output_type": "display_data"
    },
    {
     "data": {
      "application/vnd.jupyter.widget-view+json": {
       "model_id": "def86ef0c9ad4fc09a0a3874e8db1b52",
       "version_major": 2,
       "version_minor": 0
      },
      "text/plain": [
       "tokenizer_config.json:   0%|          | 0.00/42.0 [00:00<?, ?B/s]"
      ]
     },
     "metadata": {},
     "output_type": "display_data"
    },
    {
     "data": {
      "application/vnd.jupyter.widget-view+json": {
       "model_id": "27c55e44ac724892a4ec75abe76f1be2",
       "version_major": 2,
       "version_minor": 0
      },
      "text/plain": [
       "source.spm:   0%|          | 0.00/802k [00:00<?, ?B/s]"
      ]
     },
     "metadata": {},
     "output_type": "display_data"
    },
    {
     "data": {
      "application/vnd.jupyter.widget-view+json": {
       "model_id": "a66c0a2e61164cdab5b09fa263f0e660",
       "version_major": 2,
       "version_minor": 0
      },
      "text/plain": [
       "target.spm:   0%|          | 0.00/778k [00:00<?, ?B/s]"
      ]
     },
     "metadata": {},
     "output_type": "display_data"
    },
    {
     "data": {
      "application/vnd.jupyter.widget-view+json": {
       "model_id": "c6df3ed25f5e4acaa176c46604f4e68a",
       "version_major": 2,
       "version_minor": 0
      },
      "text/plain": [
       "vocab.json:   0%|          | 0.00/1.34M [00:00<?, ?B/s]"
      ]
     },
     "metadata": {},
     "output_type": "display_data"
    },
    {
     "name": "stderr",
     "output_type": "stream",
     "text": [
      "C:\\Users\\Medhat\\Anaconda3\\envs\\torch\\lib\\site-packages\\transformers\\models\\marian\\tokenization_marian.py:197: UserWarning: Recommended: pip install sacremoses.\n",
      "  warnings.warn(\"Recommended: pip install sacremoses.\")\n"
     ]
    },
    {
     "data": {
      "application/vnd.jupyter.widget-view+json": {
       "model_id": "c00750bbe48147d7b6eba9b5635f7b11",
       "version_major": 2,
       "version_minor": 0
      },
      "text/plain": [
       "tokenizer_config.json:   0%|          | 0.00/44.0 [00:00<?, ?B/s]"
      ]
     },
     "metadata": {},
     "output_type": "display_data"
    },
    {
     "data": {
      "application/vnd.jupyter.widget-view+json": {
       "model_id": "0a5bd95d5e2b4feb8105e1a5884b9e45",
       "version_major": 2,
       "version_minor": 0
      },
      "text/plain": [
       "source.spm:   0%|          | 0.00/826k [00:00<?, ?B/s]"
      ]
     },
     "metadata": {},
     "output_type": "display_data"
    },
    {
     "data": {
      "application/vnd.jupyter.widget-view+json": {
       "model_id": "df065d3e520f45df9c3ca0f11780333a",
       "version_major": 2,
       "version_minor": 0
      },
      "text/plain": [
       "target.spm:   0%|          | 0.00/802k [00:00<?, ?B/s]"
      ]
     },
     "metadata": {},
     "output_type": "display_data"
    },
    {
     "data": {
      "application/vnd.jupyter.widget-view+json": {
       "model_id": "b09e80d969db48ecbf1ebbc67d787bf4",
       "version_major": 2,
       "version_minor": 0
      },
      "text/plain": [
       "vocab.json:   0%|          | 0.00/1.59M [00:00<?, ?B/s]"
      ]
     },
     "metadata": {},
     "output_type": "display_data"
    }
   ],
   "source": [
    "# Load translation models and tokenizers\n",
    "fr_en_model_name = \"Helsinki-NLP/opus-mt-fr-en\"\n",
    "es_en_model_name = \"Helsinki-NLP/opus-mt-es-en\"\n",
    "\n",
    "fr_en_model = MarianMTModel.from_pretrained(fr_en_model_name)\n",
    "es_en_model = MarianMTModel.from_pretrained(es_en_model_name)\n",
    "\n",
    "fr_en_tokenizer = MarianTokenizer.from_pretrained(fr_en_model_name)\n",
    "es_en_tokenizer = MarianTokenizer.from_pretrained(es_en_model_name)"
   ]
  },
  {
   "cell_type": "code",
   "execution_count": 48,
   "id": "f5881676-f292-4a5f-9e79-63866bf1dcb7",
   "metadata": {},
   "outputs": [],
   "source": [
    "def translate(text: str, model: MarianMTModel, tokenizer: MarianTokenizer) -> str:\n",
    "    \"\"\"\n",
    "    function to translate a text using a model and tokenizer\n",
    "    \"\"\"\n",
    "    # Encode the text using the tokenizer\n",
    "    inputs = tokenizer(text, return_tensors='pt').to(device)\n",
    "\n",
    "    # Generate the translation using the model\n",
    "    outputs = model.generate(**inputs)\n",
    "\n",
    "    # Decode the generated output and return the translated text\n",
    "    decoded = tokenizer.decode(outputs[0], skip_special_tokens=True)\n",
    "    \n",
    "    return decoded"
   ]
  },
  {
   "cell_type": "markdown",
   "id": "1caccbd4-3743-4a75-b099-1fca8fb038fd",
   "metadata": {},
   "source": [
    "## Move to GPU"
   ]
  },
  {
   "cell_type": "code",
   "execution_count": 49,
   "id": "f1b1c0f4-c971-4be6-a56b-7586c8d86d5c",
   "metadata": {},
   "outputs": [
    {
     "data": {
      "text/plain": [
       "device(type='cuda')"
      ]
     },
     "execution_count": 49,
     "metadata": {},
     "output_type": "execute_result"
    }
   ],
   "source": [
    "import torch\n",
    "\n",
    "device = torch.device('cuda' if torch.cuda.is_available() else 'cpu')\n",
    "fr_en_model.to(device)\n",
    "es_en_model.to(device)\n",
    "device"
   ]
  },
  {
   "cell_type": "code",
   "execution_count": 64,
   "id": "9905c7f7-bba8-4eb9-b860-9433fc2c96ba",
   "metadata": {},
   "outputs": [],
   "source": [
    "# TODO 4: Update the code below\n",
    "\n",
    "# filter reviews in French and translate to English\n",
    "fr_reviews = df.loc[df['Original Language'] == 'fr']['Review']\n",
    "fr_reviews_en = fr_reviews.apply(lambda x: translate(x, fr_en_model, fr_en_tokenizer))\n",
    "\n",
    "# filter synopsis in French and translate to English\n",
    "fr_synopsis = df.loc[df['Original Language'] == 'fr']['Synopsis']\n",
    "fr_synopsis_en = fr_synopsis.apply(lambda x: translate(x, fr_en_model, fr_en_tokenizer))\n",
    "\n",
    "# filter reviews in Spanish and translate to English\n",
    "es_reviews = df.loc[df['Original Language'] == 'es']['Review']\n",
    "es_reviews_en = es_reviews.apply(lambda x: translate(x, es_en_model, es_en_tokenizer))\n",
    "\n",
    "# filter synopsis in Spanish and translate to English\n",
    "es_synopsis = df.loc[df['Original Language'] == 'es']['Synopsis']\n",
    "es_synopsis_en = es_synopsis.apply(lambda x: translate(x, es_en_model, es_en_tokenizer))\n",
    "\n",
    "# update dataframe with translated text\n",
    "# add the translated reviews and synopsis - you can overwrite the existing data\n",
    "df.loc[df['Original Language'] == 'fr', 'Review'] = fr_reviews_en\n",
    "df.loc[df['Original Language'] == 'fr', 'Synopsis'] = fr_synopsis_en\n",
    "df.loc[df['Original Language'] == 'es', 'Review'] = es_reviews_en\n",
    "df.loc[df['Original Language'] == 'es', 'Synopsis'] = es_synopsis_en"
   ]
  },
  {
   "cell_type": "code",
   "execution_count": 65,
   "id": "d23bf797-a863-4172-88c9-0284cf8ddba3",
   "metadata": {},
   "outputs": [
    {
     "data": {
      "text/html": [
       "<div>\n",
       "<style scoped>\n",
       "    .dataframe tbody tr th:only-of-type {\n",
       "        vertical-align: middle;\n",
       "    }\n",
       "\n",
       "    .dataframe tbody tr th {\n",
       "        vertical-align: top;\n",
       "    }\n",
       "\n",
       "    .dataframe thead th {\n",
       "        text-align: right;\n",
       "    }\n",
       "</style>\n",
       "<table border=\"1\" class=\"dataframe\">\n",
       "  <thead>\n",
       "    <tr style=\"text-align: right;\">\n",
       "      <th></th>\n",
       "      <th>Title</th>\n",
       "      <th>Year</th>\n",
       "      <th>Synopsis</th>\n",
       "      <th>Review</th>\n",
       "      <th>Original Language</th>\n",
       "    </tr>\n",
       "  </thead>\n",
       "  <tbody>\n",
       "    <tr>\n",
       "      <th>14</th>\n",
       "      <td>Le Fabuleux Destin d'Amélie Poulain</td>\n",
       "      <td>2001</td>\n",
       "      <td>This romantic comedy tells the story of Amélie...</td>\n",
       "      <td>\"The Fabulous Destiny of Amélie Poulain is an ...</td>\n",
       "      <td>fr</td>\n",
       "    </tr>\n",
       "    <tr>\n",
       "      <th>5</th>\n",
       "      <td>Blade Runner 2049</td>\n",
       "      <td>2017</td>\n",
       "      <td>Officer K (Ryan Gosling), a new blade runner f...</td>\n",
       "      <td>\"Boring and too long. Nothing like the origina...</td>\n",
       "      <td>en</td>\n",
       "    </tr>\n",
       "    <tr>\n",
       "      <th>11</th>\n",
       "      <td>Intouchables</td>\n",
       "      <td>2011</td>\n",
       "      <td>This film tells the story of the unlikely frie...</td>\n",
       "      <td>\"Untouchables is an incredibly touching film w...</td>\n",
       "      <td>fr</td>\n",
       "    </tr>\n",
       "    <tr>\n",
       "      <th>19</th>\n",
       "      <td>Babylon A.D.</td>\n",
       "      <td>2008</td>\n",
       "      <td>In the distant future, a mercenary has to esco...</td>\n",
       "      <td>\"This film is a complete mess. The characters ...</td>\n",
       "      <td>fr</td>\n",
       "    </tr>\n",
       "    <tr>\n",
       "      <th>4</th>\n",
       "      <td>Inception</td>\n",
       "      <td>2010</td>\n",
       "      <td>Dom Cobb (Leonardo DiCaprio) is a skilled thie...</td>\n",
       "      <td>\"Inception is a mind-bending and visually stun...</td>\n",
       "      <td>en</td>\n",
       "    </tr>\n",
       "    <tr>\n",
       "      <th>17</th>\n",
       "      <td>Astérix aux Jeux Olympiques</td>\n",
       "      <td>2008</td>\n",
       "      <td>In this film adaptation of the popular comic s...</td>\n",
       "      <td>\"This film is a complete surprise. The jokes a...</td>\n",
       "      <td>fr</td>\n",
       "    </tr>\n",
       "    <tr>\n",
       "      <th>12</th>\n",
       "      <td>Amélie</td>\n",
       "      <td>2001</td>\n",
       "      <td>This romantic comedy tells the story of Amélie...</td>\n",
       "      <td>\"Amélie is an absolute charm film that will ma...</td>\n",
       "      <td>fr</td>\n",
       "    </tr>\n",
       "    <tr>\n",
       "      <th>15</th>\n",
       "      <td>Le Dîner de Cons</td>\n",
       "      <td>1998</td>\n",
       "      <td>The film follows the story of a group of rich ...</td>\n",
       "      <td>\"I didn't like this movie at all. The concept ...</td>\n",
       "      <td>fr</td>\n",
       "    </tr>\n",
       "    <tr>\n",
       "      <th>8</th>\n",
       "      <td>Solo: A Star Wars Story</td>\n",
       "      <td>2018</td>\n",
       "      <td>A young Han Solo (Alden Ehrenreich) joins a gr...</td>\n",
       "      <td>\"Dull and pointless, with none of the magic of...</td>\n",
       "      <td>en</td>\n",
       "    </tr>\n",
       "    <tr>\n",
       "      <th>13</th>\n",
       "      <td>Les Choristes</td>\n",
       "      <td>2004</td>\n",
       "      <td>This film tells the story of a music teacher w...</td>\n",
       "      <td>\"The Choristes are a beautiful film that will ...</td>\n",
       "      <td>fr</td>\n",
       "    </tr>\n",
       "  </tbody>\n",
       "</table>\n",
       "</div>"
      ],
      "text/plain": [
       "                                  Title  Year  \\\n",
       "14  Le Fabuleux Destin d'Amélie Poulain  2001   \n",
       "5                     Blade Runner 2049  2017   \n",
       "11                         Intouchables  2011   \n",
       "19                         Babylon A.D.  2008   \n",
       "4                             Inception  2010   \n",
       "17          Astérix aux Jeux Olympiques  2008   \n",
       "12                               Amélie  2001   \n",
       "15                     Le Dîner de Cons  1998   \n",
       "8               Solo: A Star Wars Story  2018   \n",
       "13                        Les Choristes  2004   \n",
       "\n",
       "                                             Synopsis  \\\n",
       "14  This romantic comedy tells the story of Amélie...   \n",
       "5   Officer K (Ryan Gosling), a new blade runner f...   \n",
       "11  This film tells the story of the unlikely frie...   \n",
       "19  In the distant future, a mercenary has to esco...   \n",
       "4   Dom Cobb (Leonardo DiCaprio) is a skilled thie...   \n",
       "17  In this film adaptation of the popular comic s...   \n",
       "12  This romantic comedy tells the story of Amélie...   \n",
       "15  The film follows the story of a group of rich ...   \n",
       "8   A young Han Solo (Alden Ehrenreich) joins a gr...   \n",
       "13  This film tells the story of a music teacher w...   \n",
       "\n",
       "                                               Review Original Language  \n",
       "14  \"The Fabulous Destiny of Amélie Poulain is an ...                fr  \n",
       "5   \"Boring and too long. Nothing like the origina...                en  \n",
       "11  \"Untouchables is an incredibly touching film w...                fr  \n",
       "19  \"This film is a complete mess. The characters ...                fr  \n",
       "4   \"Inception is a mind-bending and visually stun...                en  \n",
       "17  \"This film is a complete surprise. The jokes a...                fr  \n",
       "12  \"Amélie is an absolute charm film that will ma...                fr  \n",
       "15  \"I didn't like this movie at all. The concept ...                fr  \n",
       "8   \"Dull and pointless, with none of the magic of...                en  \n",
       "13  \"The Choristes are a beautiful film that will ...                fr  "
      ]
     },
     "execution_count": 65,
     "metadata": {},
     "output_type": "execute_result"
    }
   ],
   "source": [
    "df.sample(10)"
   ]
  },
  {
   "cell_type": "markdown",
   "id": "abd493ed-9c38-4864-aa7c-8e7622102fd9",
   "metadata": {},
   "source": [
    "### Sentiment Analysis\n",
    "\n",
    "Use HuggingFace pretrained model for sentiment analysis of the reviews. Store the sentiment result **Positive** or **Negative** in a new column titled **Sentiment** in the dataframe."
   ]
  },
  {
   "cell_type": "code",
   "execution_count": 78,
   "id": "ba1f6762-cf70-4fd9-b8f3-5efcdfa49473",
   "metadata": {},
   "outputs": [],
   "source": [
    "# Load sentiment analysis model\n",
    "model_name = 'distilbert-base-uncased-finetuned-sst-2-english'\n",
    "sentiment_classifier = pipeline('text-classification', model=model_name)\n",
    "\n",
    "def analyze_sentiment(text, classifier):\n",
    "    \"\"\"\n",
    "    function to perform sentiment analysis on a text using a model\n",
    "    \"\"\"\n",
    "    result = classifier(text)\n",
    "    return result[0]"
   ]
  },
  {
   "cell_type": "code",
   "execution_count": 79,
   "id": "39b36ff1-b494-4f8a-8c10-204a7b349b7f",
   "metadata": {},
   "outputs": [
    {
     "data": {
      "text/plain": [
       "{'label': 'NEGATIVE', 'score': 0.9997503161430359}"
      ]
     },
     "execution_count": 79,
     "metadata": {},
     "output_type": "execute_result"
    }
   ],
   "source": [
    "text_to_analyze = \"I hate this product!\"\n",
    "analyze_sentiment(text_to_analyze, sentiment_classifier)"
   ]
  },
  {
   "cell_type": "code",
   "execution_count": 80,
   "id": "f7cd46f0-6a53-4252-800f-0d770889280e",
   "metadata": {},
   "outputs": [
    {
     "data": {
      "text/html": [
       "<div>\n",
       "<style scoped>\n",
       "    .dataframe tbody tr th:only-of-type {\n",
       "        vertical-align: middle;\n",
       "    }\n",
       "\n",
       "    .dataframe tbody tr th {\n",
       "        vertical-align: top;\n",
       "    }\n",
       "\n",
       "    .dataframe thead th {\n",
       "        text-align: right;\n",
       "    }\n",
       "</style>\n",
       "<table border=\"1\" class=\"dataframe\">\n",
       "  <thead>\n",
       "    <tr style=\"text-align: right;\">\n",
       "      <th></th>\n",
       "      <th>Title</th>\n",
       "      <th>Year</th>\n",
       "      <th>Synopsis</th>\n",
       "      <th>Review</th>\n",
       "      <th>Original Language</th>\n",
       "      <th>Sentiment</th>\n",
       "    </tr>\n",
       "  </thead>\n",
       "  <tbody>\n",
       "    <tr>\n",
       "      <th>27</th>\n",
       "      <td>El Bar</td>\n",
       "      <td>2017</td>\n",
       "      <td>A group of people are trapped in a bar after M...</td>\n",
       "      <td>\"The Bar is a ridiculous and meaningless film ...</td>\n",
       "      <td>es</td>\n",
       "      <td>NEGATIVE</td>\n",
       "    </tr>\n",
       "    <tr>\n",
       "      <th>24</th>\n",
       "      <td>Amores perros</td>\n",
       "      <td>2000</td>\n",
       "      <td>Three stories intertwine in this Mexican film:...</td>\n",
       "      <td>\"Amores dogs is an intense and moving film tha...</td>\n",
       "      <td>es</td>\n",
       "      <td>POSITIVE</td>\n",
       "    </tr>\n",
       "    <tr>\n",
       "      <th>25</th>\n",
       "      <td>Águila Roja</td>\n",
       "      <td>(2009-2016)</td>\n",
       "      <td>This Spanish television series follows the adv...</td>\n",
       "      <td>\"Red Eagle is a boring and uninteresting serie...</td>\n",
       "      <td>es</td>\n",
       "      <td>NEGATIVE</td>\n",
       "    </tr>\n",
       "    <tr>\n",
       "      <th>14</th>\n",
       "      <td>Le Fabuleux Destin d'Amélie Poulain</td>\n",
       "      <td>2001</td>\n",
       "      <td>This romantic comedy tells the story of Amélie...</td>\n",
       "      <td>\"The Fabulous Destiny of Amélie Poulain is an ...</td>\n",
       "      <td>fr</td>\n",
       "      <td>POSITIVE</td>\n",
       "    </tr>\n",
       "    <tr>\n",
       "      <th>2</th>\n",
       "      <td>Forrest Gump</td>\n",
       "      <td>1994</td>\n",
       "      <td>Forrest Gump (Tom Hanks) is a simple man with ...</td>\n",
       "      <td>\"Forrest Gump is a heartwarming and inspiratio...</td>\n",
       "      <td>en</td>\n",
       "      <td>POSITIVE</td>\n",
       "    </tr>\n",
       "    <tr>\n",
       "      <th>7</th>\n",
       "      <td>The Nice Guys</td>\n",
       "      <td>2016</td>\n",
       "      <td>In 1970s Los Angeles, a private eye (Ryan Gosl...</td>\n",
       "      <td>\"The Nice Guys tries too hard to be funny, and...</td>\n",
       "      <td>en</td>\n",
       "      <td>NEGATIVE</td>\n",
       "    </tr>\n",
       "    <tr>\n",
       "      <th>5</th>\n",
       "      <td>Blade Runner 2049</td>\n",
       "      <td>2017</td>\n",
       "      <td>Officer K (Ryan Gosling), a new blade runner f...</td>\n",
       "      <td>\"Boring and too long. Nothing like the origina...</td>\n",
       "      <td>en</td>\n",
       "      <td>NEGATIVE</td>\n",
       "    </tr>\n",
       "    <tr>\n",
       "      <th>0</th>\n",
       "      <td>The Shawshank Redemption</td>\n",
       "      <td>1994</td>\n",
       "      <td>Andy Dufresne (Tim Robbins), a successful bank...</td>\n",
       "      <td>\"The Shawshank Redemption is an inspiring tale...</td>\n",
       "      <td>en</td>\n",
       "      <td>POSITIVE</td>\n",
       "    </tr>\n",
       "    <tr>\n",
       "      <th>21</th>\n",
       "      <td>La Casa de Papel</td>\n",
       "      <td>(2017-2021)</td>\n",
       "      <td>This Spanish television series follows a group...</td>\n",
       "      <td>\"The Paper House is an exciting and addictive ...</td>\n",
       "      <td>es</td>\n",
       "      <td>POSITIVE</td>\n",
       "    </tr>\n",
       "    <tr>\n",
       "      <th>6</th>\n",
       "      <td>Scott Pilgrim vs. the World</td>\n",
       "      <td>2010</td>\n",
       "      <td>Scott Pilgrim (Michael Cera) must defeat his n...</td>\n",
       "      <td>\"It was difficult to sit through the whole thi...</td>\n",
       "      <td>en</td>\n",
       "      <td>NEGATIVE</td>\n",
       "    </tr>\n",
       "  </tbody>\n",
       "</table>\n",
       "</div>"
      ],
      "text/plain": [
       "                                  Title         Year  \\\n",
       "27                               El Bar         2017   \n",
       "24                        Amores perros         2000   \n",
       "25                         Águila Roja   (2009-2016)   \n",
       "14  Le Fabuleux Destin d'Amélie Poulain         2001   \n",
       "2                          Forrest Gump         1994   \n",
       "7                         The Nice Guys         2016   \n",
       "5                     Blade Runner 2049         2017   \n",
       "0             The Shawshank Redemption          1994   \n",
       "21                     La Casa de Papel  (2017-2021)   \n",
       "6           Scott Pilgrim vs. the World         2010   \n",
       "\n",
       "                                             Synopsis  \\\n",
       "27  A group of people are trapped in a bar after M...   \n",
       "24  Three stories intertwine in this Mexican film:...   \n",
       "25  This Spanish television series follows the adv...   \n",
       "14  This romantic comedy tells the story of Amélie...   \n",
       "2   Forrest Gump (Tom Hanks) is a simple man with ...   \n",
       "7   In 1970s Los Angeles, a private eye (Ryan Gosl...   \n",
       "5   Officer K (Ryan Gosling), a new blade runner f...   \n",
       "0   Andy Dufresne (Tim Robbins), a successful bank...   \n",
       "21  This Spanish television series follows a group...   \n",
       "6   Scott Pilgrim (Michael Cera) must defeat his n...   \n",
       "\n",
       "                                               Review Original Language  \\\n",
       "27  \"The Bar is a ridiculous and meaningless film ...                es   \n",
       "24  \"Amores dogs is an intense and moving film tha...                es   \n",
       "25  \"Red Eagle is a boring and uninteresting serie...                es   \n",
       "14  \"The Fabulous Destiny of Amélie Poulain is an ...                fr   \n",
       "2   \"Forrest Gump is a heartwarming and inspiratio...                en   \n",
       "7   \"The Nice Guys tries too hard to be funny, and...                en   \n",
       "5   \"Boring and too long. Nothing like the origina...                en   \n",
       "0   \"The Shawshank Redemption is an inspiring tale...                en   \n",
       "21  \"The Paper House is an exciting and addictive ...                es   \n",
       "6   \"It was difficult to sit through the whole thi...                en   \n",
       "\n",
       "   Sentiment  \n",
       "27  NEGATIVE  \n",
       "24  POSITIVE  \n",
       "25  NEGATIVE  \n",
       "14  POSITIVE  \n",
       "2   POSITIVE  \n",
       "7   NEGATIVE  \n",
       "5   NEGATIVE  \n",
       "0   POSITIVE  \n",
       "21  POSITIVE  \n",
       "6   NEGATIVE  "
      ]
     },
     "execution_count": 80,
     "metadata": {},
     "output_type": "execute_result"
    }
   ],
   "source": [
    "df['Sentiment'] = df['Review'].apply(lambda x: analyze_sentiment(x, sentiment_classifier)['label'])\n",
    "df.sample(10)"
   ]
  },
  {
   "cell_type": "code",
   "execution_count": 82,
   "id": "25fbb809-7b15-45a6-aad8-dda6cfb5a827",
   "metadata": {},
   "outputs": [],
   "source": [
    "# Export the results to a .csv file\n",
    "df.to_csv(\"result/reviews_with_sentiment.csv\", index=False)"
   ]
  }
 ],
 "metadata": {
  "kernelspec": {
   "display_name": "Python 3 (ipykernel)",
   "language": "python",
   "name": "python3"
  },
  "language_info": {
   "codemirror_mode": {
    "name": "ipython",
    "version": 3
   },
   "file_extension": ".py",
   "mimetype": "text/x-python",
   "name": "python",
   "nbconvert_exporter": "python",
   "pygments_lexer": "ipython3",
   "version": "3.10.13"
  }
 },
 "nbformat": 4,
 "nbformat_minor": 5
}
